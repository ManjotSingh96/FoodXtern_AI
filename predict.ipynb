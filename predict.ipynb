{
 "cells": [
  {
   "attachments": {},
   "cell_type": "markdown",
   "metadata": {},
   "source": [
    "Load the required libraries"
   ]
  },
  {
   "cell_type": "code",
   "execution_count": 64,
   "metadata": {},
   "outputs": [],
   "source": [
    "\n",
    "import gspread as gs\n",
    "import pandas as pd\n",
    "from sklearn.model_selection import train_test_split\n",
    "from sklearn.preprocessing import StandardScaler, OrdinalEncoder\n",
    "from sklearn.ensemble import RandomForestClassifier\n",
    "from sklearn.metrics import classification_report\n",
    "import pickle"
   ]
  },
  {
   "attachments": {},
   "cell_type": "markdown",
   "metadata": {},
   "source": [
    "Establish a connection with Google Sheets"
   ]
  },
  {
   "cell_type": "code",
   "execution_count": 65,
   "metadata": {},
   "outputs": [],
   "source": [
    "\n",
    "gc = gs.service_account(filename='spreadsheetxtern.json')\n",
    "sh = gc.open_by_url('https://docs.google.com/spreadsheets/d/1y_g37nbDgHC-zm1y_WGfThBt5wipMxnFSDcSZT6AQq4/edit#gid=651709921')\n",
    "ws = sh.worksheet('Xtern_TrainData')\n",
    "df = pd.DataFrame(ws.get_all_records())"
   ]
  },
  {
   "attachments": {},
   "cell_type": "markdown",
   "metadata": {},
   "source": [
    "Refine the dataset"
   ]
  },
  {
   "cell_type": "code",
   "execution_count": 66,
   "metadata": {},
   "outputs": [],
   "source": [
    "X = df.drop('Order', axis=1)\n",
    "y = df['Order']\n",
    "enc = OrdinalEncoder()\n",
    "X = pd.DataFrame(enc.fit_transform(X), columns=X.columns)\n",
    "X_train, X_test, y_train, y_test = train_test_split(X, y, test_size=0.2, random_state=42)\n",
    "scaler = StandardScaler()\n",
    "X_train = scaler.fit_transform(X_train)\n",
    "X_test = scaler.transform(X_test)"
   ]
  },
  {
   "attachments": {},
   "cell_type": "markdown",
   "metadata": {},
   "source": [
    "Construct the model with the data "
   ]
  },
  {
   "cell_type": "code",
   "execution_count": 67,
   "metadata": {},
   "outputs": [
    {
     "name": "stdout",
     "output_type": "stream",
     "text": [
      "                                                          precision    recall  f1-score   support\n",
      "\n",
      "                        Breaded Pork Tenderloin Sandwich       0.61      0.46      0.52        94\n",
      "                                  Cornbread Hush Puppies       0.58      0.64      0.61       112\n",
      "                                    Fried Catfish Basket       0.73      0.55      0.63       107\n",
      "                        Hoosier BBQ Pulled Pork Sandwich       0.67      0.65      0.66       103\n",
      "                 Indiana Buffalo Chicken Tacos (3 tacos)       0.62      0.59      0.61        93\n",
      "    Indiana Corn on the Cob (brushed with garlic butter)       0.66      0.85      0.74        84\n",
      "                                      Indiana Pork Chili       0.76      0.85      0.80        95\n",
      "                                         Sugar Cream Pie       0.62      0.58      0.60       110\n",
      "                                      Sweet Potato Fries       0.61      0.62      0.62        98\n",
      "Ultimate Grilled Cheese Sandwich (with bacon and tomato)       0.64      0.73      0.68       104\n",
      "\n",
      "                                                accuracy                           0.65      1000\n",
      "                                               macro avg       0.65      0.65      0.65      1000\n",
      "                                            weighted avg       0.65      0.65      0.65      1000\n",
      "\n"
     ]
    }
   ],
   "source": [
    "model = RandomForestClassifier(n_estimators=100)\n",
    "model.fit(X_train, y_train)\n",
    "y_pred = model.predict(X_test)\n",
    "print(classification_report(y_test, y_pred))\n"
   ]
  },
  {
   "attachments": {},
   "cell_type": "markdown",
   "metadata": {},
   "source": [
    "Save the model, scaler, and encoder "
   ]
  },
  {
   "cell_type": "code",
   "execution_count": 68,
   "metadata": {},
   "outputs": [],
   "source": [
    "with open('model.pkl', 'wb') as f:\n",
    "    pickle.dump(model, f)\n",
    "with open('scaler.pkl', 'wb') as f:\n",
    "    pickle.dump(scaler, f)\n",
    "with open('encoder.pkl', 'wb') as f:\n",
    "    pickle.dump(enc, f)\n"
   ]
  },
  {
   "attachments": {},
   "cell_type": "markdown",
   "metadata": {},
   "source": [
    "Load the model, scaler, and encoder "
   ]
  },
  {
   "cell_type": "code",
   "execution_count": 69,
   "metadata": {},
   "outputs": [],
   "source": [
    "with open('model.pkl', 'rb') as f:\n",
    "    model = pickle.load(f)\n",
    "with open('scaler.pkl', 'rb') as f:\n",
    "    scaler = pickle.load(f)\n",
    "with open('encoder.pkl', 'rb') as f:\n",
    "    enc = pickle.load(f)\n"
   ]
  },
  {
   "attachments": {},
   "cell_type": "markdown",
   "metadata": {},
   "source": [
    "Seek input from the user and make anticipations "
   ]
  },
  {
   "cell_type": "code",
   "execution_count": 70,
   "metadata": {},
   "outputs": [
    {
     "name": "stdout",
     "output_type": "stream",
     "text": [
      "Probability of ordering Breaded Pork Tenderloin Sandwich: 34.16176470588235%\n",
      "Probability of ordering Cornbread Hush Puppies: 4.916666666666666%\n",
      "Probability of ordering Fried Catfish Basket: 2.9766870384517445%\n",
      "Probability of ordering Hoosier BBQ Pulled Pork Sandwich: 0.0%\n",
      "Probability of ordering Indiana Buffalo Chicken Tacos (3 tacos): 0.0%\n",
      "Probability of ordering Indiana Corn on the Cob (brushed with garlic butter): 0.0%\n",
      "Probability of ordering Indiana Pork Chili: 0.44313725490196076%\n",
      "Probability of ordering Sugar Cream Pie: 0.0%\n",
      "Probability of ordering Sweet Potato Fries: 55.73264578558697%\n",
      "Probability of ordering Ultimate Grilled Cheese Sandwich (with bacon and tomato): 1.769098548510313%\n"
     ]
    }
   ],
   "source": [
    "\n",
    "year = input(\"Enter year of study (e.g., 'Year 2'): \")\n",
    "major = input(\"Enter major (e.g., 'Mathematics'): \")\n",
    "university = input(\"Enter university (e.g., 'Indiana State University'): \")\n",
    "time = int(input(\"Enter time (an integer from 0 to 24): \"))\n",
    "new_data = pd.DataFrame([[year, major, university, time]], columns=['Year', 'Major', 'University', 'Time'])\n",
    "new_data_encoded = pd.DataFrame(enc.transform(new_data), columns=new_data.columns)\n",
    "new_data_scaled = scaler.transform(new_data_encoded)\n",
    "predictions_proba = model.predict_proba(new_data_scaled)\n",
    "\n",
    "for i in range(len(model.classes_)):\n",
    "    print(f\"Probability of ordering {model.classes_[i]}: {predictions_proba[0][i]*100}%\")\n"
   ]
  }
 ],
 "metadata": {
  "kernelspec": {
   "display_name": "Python 3 (ipykernel)",
   "language": "python",
   "name": "python3"
  },
  "language_info": {
   "codemirror_mode": {
    "name": "ipython",
    "version": 3
   },
   "file_extension": ".py",
   "mimetype": "text/x-python",
   "name": "python",
   "nbconvert_exporter": "python",
   "pygments_lexer": "ipython3",
   "version": "3.10.8"
  }
 },
 "nbformat": 4,
 "nbformat_minor": 4
}
